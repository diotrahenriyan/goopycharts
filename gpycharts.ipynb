{
 "cells": [
  {
   "cell_type": "markdown",
   "metadata": {},
   "source": [
    "# Creating Graphs with Python and GooPyCharts\n",
    "Source: [datascience+](https://datascienceplus.com/creating-graphs-with-python-and-goopycharts/)"
   ],
   "execution_count": null,
   "outputs": []
  },
  {
   "cell_type": "markdown",
   "metadata": {},
   "source": [
    "## Import libraries\n",
    "\n",
    "```python\n",
    "pip install gpcharts\n",
    "```"
   ],
   "execution_count": null,
   "outputs": []
  },
  {
   "cell_type": "markdown",
   "metadata": {},
   "source": [
    "## Our First Graph\n"
   ],
   "execution_count": null,
   "outputs": []
  },
  {
   "cell_type": "code",
   "execution_count": null,
   "metadata": {},
   "outputs": [],
   "source": [
    "from gpcharts import figure\n",
    "my_plot = figure(title='Demo')\n",
    "my_plot.plot([1, 2, 10, 15, 12, 23])"
   ]
  },
  {
   "cell_type": "markdown",
   "metadata": {},
   "source": [
    "## Creating a Bar Graph"
   ],
   "execution_count": null,
   "outputs": []
  },
  {
   "cell_type": "code",
   "execution_count": null,
   "metadata": {},
   "outputs": [],
   "source": [
    "fig3 = figure()\n",
    "xVals = ['Temps','2016-03-20','2016-03-21','2016-03-25','2016-04-01']\n",
    "yVals = [['Shakuras','Korhal','Aiur'],[10,30,40],[12,28,41],[15,34,38],[8,33,47]]\n",
    "\n",
    "fig3.title = 'Weather over Days'\n",
    "fig3.ylabel = 'Dates'\n",
    "fig3.bar(xVals, yVals)"
   ]
  },
  {
   "cell_type": "markdown",
   "metadata": {},
   "source": [
    "## Creating Other Types of Graphs"
   ],
   "execution_count": null,
   "outputs": []
  },
  {
   "cell_type": "code",
   "execution_count": null,
   "metadata": {},
   "outputs": [],
   "source": [
    "my_fig = figure()\n",
    "xVals = ['Dates','2016-03-20','2016-03-21','2016-03-25','2016-04-01']\n",
    "yVals = [['Shakuras','Korhal','Aiur'],[10,30,40],[12,28,41],[15,34,38],[8,33,47]]\n",
    "\n",
    "my_fig.title = 'Scatter Plot'\n",
    "my_fig.ylabel = 'Temps'\n",
    "\n",
    "my_fig.scatter(xVals, yVals)"
   ]
  },
  {
   "cell_type": "code",
   "execution_count": null,
   "metadata": {},
   "outputs": [],
   "source": [
    "my_fig = figure()\n",
    "my_fig.title = 'Random Histrogram'\n",
    "my_fig.xlabel = 'Random Values'\n",
    "vals = [10, 40, 30, 50, 80, 100, 65]\n",
    "my_fig.hist(vals)"
   ]
  }
 ],
 "metadata": {
  "file_extension": ".py",
  "kernelspec": {
   "display_name": "Python 3.7.7 64-bit ('python_3': conda)",
   "language": "python",
   "name": "python37764bitpython3condacd33ffb6eda44dc4b926af55cffeb75c"
  },
  "language_info": {
   "codemirror_mode": {
    "name": "ipython",
    "version": 3
   },
   "file_extension": ".py",
   "mimetype": "text/x-python",
   "name": "python",
   "nbconvert_exporter": "python",
   "pygments_lexer": "ipython3",
   "version": "3.7.6-final"
  },
  "mimetype": "text/x-python",
  "name": "python",
  "npconvert_exporter": "python",
  "pygments_lexer": "ipython3",
  "version": 3
 },
 "nbformat": 4,
 "nbformat_minor": 2
}